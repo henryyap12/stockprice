{
 "cells": [
  {
   "cell_type": "markdown",
   "metadata": {},
   "source": [
    "# Stock Prices Prediction Using Keras Long Term Short Memory"
   ]
  },
  {
   "cell_type": "code",
   "execution_count": 1,
   "metadata": {},
   "outputs": [],
   "source": [
    "# Part 1 - Data Preprocessing\n",
    "\n",
    "# Importing the libraries\n",
    "import numpy as np\n",
    "import matplotlib.pyplot as plt\n",
    "import pandas as pd"
   ]
  },
  {
   "cell_type": "code",
   "execution_count": 2,
   "metadata": {},
   "outputs": [],
   "source": [
    "# Importing the training set\n",
    "dataset_train = pd.read_csv('data/NSE-TATAGLOBAL.csv')\n",
    "training_set = dataset_train.iloc[:, 1:2].values"
   ]
  },
  {
   "cell_type": "code",
   "execution_count": 3,
   "metadata": {},
   "outputs": [
    {
     "data": {
      "text/html": [
       "<div>\n",
       "<style scoped>\n",
       "    .dataframe tbody tr th:only-of-type {\n",
       "        vertical-align: middle;\n",
       "    }\n",
       "\n",
       "    .dataframe tbody tr th {\n",
       "        vertical-align: top;\n",
       "    }\n",
       "\n",
       "    .dataframe thead th {\n",
       "        text-align: right;\n",
       "    }\n",
       "</style>\n",
       "<table border=\"1\" class=\"dataframe\">\n",
       "  <thead>\n",
       "    <tr style=\"text-align: right;\">\n",
       "      <th></th>\n",
       "      <th>Date</th>\n",
       "      <th>Open</th>\n",
       "      <th>High</th>\n",
       "      <th>Low</th>\n",
       "      <th>Last</th>\n",
       "      <th>Close</th>\n",
       "      <th>Total Trade Quantity</th>\n",
       "      <th>Turnover (Lacs)</th>\n",
       "    </tr>\n",
       "  </thead>\n",
       "  <tbody>\n",
       "    <tr>\n",
       "      <th>0</th>\n",
       "      <td>2019-01-04</td>\n",
       "      <td>210.60</td>\n",
       "      <td>214.90</td>\n",
       "      <td>210.00</td>\n",
       "      <td>213.50</td>\n",
       "      <td>213.80</td>\n",
       "      <td>1213181.0</td>\n",
       "      <td>2583.05</td>\n",
       "    </tr>\n",
       "    <tr>\n",
       "      <th>1</th>\n",
       "      <td>2019-01-03</td>\n",
       "      <td>214.95</td>\n",
       "      <td>215.35</td>\n",
       "      <td>209.90</td>\n",
       "      <td>210.55</td>\n",
       "      <td>210.05</td>\n",
       "      <td>2096553.0</td>\n",
       "      <td>4433.50</td>\n",
       "    </tr>\n",
       "    <tr>\n",
       "      <th>2</th>\n",
       "      <td>2019-01-02</td>\n",
       "      <td>219.00</td>\n",
       "      <td>220.35</td>\n",
       "      <td>213.60</td>\n",
       "      <td>214.20</td>\n",
       "      <td>214.60</td>\n",
       "      <td>1081778.0</td>\n",
       "      <td>2340.31</td>\n",
       "    </tr>\n",
       "    <tr>\n",
       "      <th>3</th>\n",
       "      <td>2019-01-01</td>\n",
       "      <td>219.95</td>\n",
       "      <td>221.05</td>\n",
       "      <td>218.05</td>\n",
       "      <td>218.95</td>\n",
       "      <td>219.10</td>\n",
       "      <td>716275.0</td>\n",
       "      <td>1571.63</td>\n",
       "    </tr>\n",
       "    <tr>\n",
       "      <th>4</th>\n",
       "      <td>2018-12-31</td>\n",
       "      <td>222.00</td>\n",
       "      <td>223.65</td>\n",
       "      <td>218.85</td>\n",
       "      <td>219.55</td>\n",
       "      <td>219.40</td>\n",
       "      <td>965858.0</td>\n",
       "      <td>2131.09</td>\n",
       "    </tr>\n",
       "  </tbody>\n",
       "</table>\n",
       "</div>"
      ],
      "text/plain": [
       "         Date    Open    High     Low    Last   Close  Total Trade Quantity  \\\n",
       "0  2019-01-04  210.60  214.90  210.00  213.50  213.80             1213181.0   \n",
       "1  2019-01-03  214.95  215.35  209.90  210.55  210.05             2096553.0   \n",
       "2  2019-01-02  219.00  220.35  213.60  214.20  214.60             1081778.0   \n",
       "3  2019-01-01  219.95  221.05  218.05  218.95  219.10              716275.0   \n",
       "4  2018-12-31  222.00  223.65  218.85  219.55  219.40              965858.0   \n",
       "\n",
       "   Turnover (Lacs)  \n",
       "0          2583.05  \n",
       "1          4433.50  \n",
       "2          2340.31  \n",
       "3          1571.63  \n",
       "4          2131.09  "
      ]
     },
     "execution_count": 3,
     "metadata": {},
     "output_type": "execute_result"
    }
   ],
   "source": [
    "dataset_train.head()\n"
   ]
  },
  {
   "cell_type": "code",
   "execution_count": 4,
   "metadata": {},
   "outputs": [],
   "source": [
    "# Feature Scaling\n",
    "from sklearn.preprocessing import MinMaxScaler\n",
    "sc = MinMaxScaler(feature_range = (0, 1))\n",
    "training_set_scaled = sc.fit_transform(training_set)"
   ]
  },
  {
   "cell_type": "code",
   "execution_count": 5,
   "metadata": {},
   "outputs": [],
   "source": [
    "# Creating a data structure with 60 timesteps and 1 output\n",
    "X_train = []\n",
    "y_train = []\n",
    "for i in range(60, 2035):\n",
    "    X_train.append(training_set_scaled[i-60:i, 0])\n",
    "    y_train.append(training_set_scaled[i, 0])\n",
    "X_train, y_train = np.array(X_train), np.array(y_train)"
   ]
  },
  {
   "cell_type": "code",
   "execution_count": 6,
   "metadata": {},
   "outputs": [],
   "source": [
    "# Reshaping\n",
    "X_train = np.reshape(X_train, (X_train.shape[0], X_train.shape[1], 1))"
   ]
  },
  {
   "cell_type": "code",
   "execution_count": 7,
   "metadata": {},
   "outputs": [
    {
     "name": "stderr",
     "output_type": "stream",
     "text": [
      "Using TensorFlow backend.\n"
     ]
    }
   ],
   "source": [
    "# Part 2 - Building the RNN\n",
    "\n",
    "# Importing the Keras libraries and packages\n",
    "from keras.models import Sequential\n",
    "from keras.layers import Dense\n",
    "from keras.layers import LSTM\n",
    "from keras.layers import Dropout"
   ]
  },
  {
   "cell_type": "code",
   "execution_count": 8,
   "metadata": {},
   "outputs": [],
   "source": [
    "# Initialising the RNN\n",
    "regressor = Sequential()\n",
    "\n",
    "# Adding the first LSTM layer and some Dropout regularisation\n",
    "regressor.add(LSTM(units = 50, return_sequences = True, input_shape = (X_train.shape[1], 1)))\n",
    "regressor.add(Dropout(0.2))"
   ]
  },
  {
   "cell_type": "code",
   "execution_count": 9,
   "metadata": {},
   "outputs": [],
   "source": [
    "# Adding a second LSTM layer and some Dropout regularisation\n",
    "regressor.add(LSTM(units = 50, return_sequences = True))\n",
    "regressor.add(Dropout(0.2))"
   ]
  },
  {
   "cell_type": "code",
   "execution_count": 10,
   "metadata": {},
   "outputs": [],
   "source": [
    "\n",
    "# Adding a third LSTM layer and some Dropout regularisation\n",
    "regressor.add(LSTM(units = 50, return_sequences = True))\n",
    "regressor.add(Dropout(0.2))"
   ]
  },
  {
   "cell_type": "code",
   "execution_count": 11,
   "metadata": {},
   "outputs": [],
   "source": [
    "# Adding a fourth LSTM layer and some Dropout regularisation\n",
    "regressor.add(LSTM(units = 50))\n",
    "regressor.add(Dropout(0.2))\n"
   ]
  },
  {
   "cell_type": "code",
   "execution_count": 12,
   "metadata": {},
   "outputs": [
    {
     "name": "stdout",
     "output_type": "stream",
     "text": [
      "Epoch 1/100\n",
      "1975/1975 [==============================] - 8s 4ms/step - loss: 0.0102\n",
      "Epoch 2/100\n",
      "1975/1975 [==============================] - 6s 3ms/step - loss: 0.0037\n",
      "Epoch 3/100\n",
      "1975/1975 [==============================] - 6s 3ms/step - loss: 0.0028\n",
      "Epoch 4/100\n",
      "1975/1975 [==============================] - 6s 3ms/step - loss: 0.0029\n",
      "Epoch 5/100\n",
      "1975/1975 [==============================] - 6s 3ms/step - loss: 0.0029\n",
      "Epoch 6/100\n",
      "1975/1975 [==============================] - 7s 3ms/step - loss: 0.0024\n",
      "Epoch 7/100\n",
      "1975/1975 [==============================] - 6s 3ms/step - loss: 0.0024\n",
      "Epoch 8/100\n",
      "1975/1975 [==============================] - 6s 3ms/step - loss: 0.0027\n",
      "Epoch 9/100\n",
      "1975/1975 [==============================] - 7s 3ms/step - loss: 0.0021\n",
      "Epoch 10/100\n",
      "1975/1975 [==============================] - 7s 3ms/step - loss: 0.0021\n",
      "Epoch 11/100\n",
      "1975/1975 [==============================] - 6s 3ms/step - loss: 0.0020\n",
      "Epoch 12/100\n",
      "1975/1975 [==============================] - 7s 4ms/step - loss: 0.0019\n",
      "Epoch 13/100\n",
      "1975/1975 [==============================] - 6s 3ms/step - loss: 0.0018\n",
      "Epoch 14/100\n",
      "1975/1975 [==============================] - 6s 3ms/step - loss: 0.0018\n",
      "Epoch 15/100\n",
      "1975/1975 [==============================] - 6s 3ms/step - loss: 0.0019\n",
      "Epoch 16/100\n",
      "1975/1975 [==============================] - 6s 3ms/step - loss: 0.0017\n",
      "Epoch 17/100\n",
      "1975/1975 [==============================] - 7s 4ms/step - loss: 0.0017\n",
      "Epoch 18/100\n",
      "1975/1975 [==============================] - 6s 3ms/step - loss: 0.0018\n",
      "Epoch 19/100\n",
      "1975/1975 [==============================] - 6s 3ms/step - loss: 0.0017\n",
      "Epoch 20/100\n",
      "1975/1975 [==============================] - 6s 3ms/step - loss: 0.0017\n",
      "Epoch 21/100\n",
      "1975/1975 [==============================] - 6s 3ms/step - loss: 0.0015\n",
      "Epoch 22/100\n",
      "1975/1975 [==============================] - 7s 3ms/step - loss: 0.0016\n",
      "Epoch 23/100\n",
      "1975/1975 [==============================] - 7s 3ms/step - loss: 0.0015\n",
      "Epoch 24/100\n",
      "1975/1975 [==============================] - 6s 3ms/step - loss: 0.0014\n",
      "Epoch 25/100\n",
      "1975/1975 [==============================] - 6s 3ms/step - loss: 0.0014\n",
      "Epoch 26/100\n",
      "1975/1975 [==============================] - 6s 3ms/step - loss: 0.0014\n",
      "Epoch 27/100\n",
      "1975/1975 [==============================] - 6s 3ms/step - loss: 0.0012A: 0s - loss: 0.00\n",
      "Epoch 28/100\n",
      "1975/1975 [==============================] - 6s 3ms/step - loss: 0.0012\n",
      "Epoch 29/100\n",
      "1975/1975 [==============================] - 7s 3ms/step - loss: 0.0015\n",
      "Epoch 30/100\n",
      "1975/1975 [==============================] - 6s 3ms/step - loss: 0.0012\n",
      "Epoch 31/100\n",
      "1975/1975 [==============================] - 6s 3ms/step - loss: 0.0011\n",
      "Epoch 32/100\n",
      "1975/1975 [==============================] - 6s 3ms/step - loss: 0.0012\n",
      "Epoch 33/100\n",
      "1975/1975 [==============================] - 6s 3ms/step - loss: 0.0012\n",
      "Epoch 34/100\n",
      "1975/1975 [==============================] - 6s 3ms/step - loss: 0.0011\n",
      "Epoch 35/100\n",
      "1975/1975 [==============================] - 6s 3ms/step - loss: 0.0010\n",
      "Epoch 36/100\n",
      "1975/1975 [==============================] - 6s 3ms/step - loss: 0.0010\n",
      "Epoch 37/100\n",
      "1975/1975 [==============================] - 6s 3ms/step - loss: 0.0011\n",
      "Epoch 38/100\n",
      "1975/1975 [==============================] - 6s 3ms/step - loss: 0.0011\n",
      "Epoch 39/100\n",
      "1975/1975 [==============================] - 6s 3ms/step - loss: 0.0011\n",
      "Epoch 40/100\n",
      "1975/1975 [==============================] - 6s 3ms/step - loss: 0.0010\n",
      "Epoch 41/100\n",
      "1975/1975 [==============================] - 6s 3ms/step - loss: 0.0011A: 1s - l\n",
      "Epoch 42/100\n",
      "1975/1975 [==============================] - 6s 3ms/step - loss: 0.0010\n",
      "Epoch 43/100\n",
      "1975/1975 [==============================] - 7s 4ms/step - loss: 8.8512e-04\n",
      "Epoch 44/100\n",
      "1975/1975 [==============================] - 7s 3ms/step - loss: 9.6276e-04\n",
      "Epoch 45/100\n",
      "1975/1975 [==============================] - 6s 3ms/step - loss: 0.0010\n",
      "Epoch 46/100\n",
      "1975/1975 [==============================] - 7s 3ms/step - loss: 0.0011\n",
      "Epoch 47/100\n",
      "1975/1975 [==============================] - 6s 3ms/step - loss: 8.5451e-04\n",
      "Epoch 48/100\n",
      "1975/1975 [==============================] - 6s 3ms/step - loss: 8.8416e-04\n",
      "Epoch 49/100\n",
      "1975/1975 [==============================] - 6s 3ms/step - loss: 9.2500e-04\n",
      "Epoch 50/100\n",
      "1975/1975 [==============================] - 6s 3ms/step - loss: 9.0036e-04\n",
      "Epoch 51/100\n",
      "1975/1975 [==============================] - 6s 3ms/step - loss: 9.3611e-04\n",
      "Epoch 52/100\n",
      "1975/1975 [==============================] - 6s 3ms/step - loss: 9.1294e-04\n",
      "Epoch 53/100\n",
      "1975/1975 [==============================] - 6s 3ms/step - loss: 9.6550e-04\n",
      "Epoch 54/100\n",
      "1975/1975 [==============================] - 6s 3ms/step - loss: 0.0011\n",
      "Epoch 55/100\n",
      "1975/1975 [==============================] - 6s 3ms/step - loss: 9.9923e-04\n",
      "Epoch 56/100\n",
      "1975/1975 [==============================] - 6s 3ms/step - loss: 8.3969e-04\n",
      "Epoch 57/100\n",
      "1975/1975 [==============================] - 6s 3ms/step - loss: 7.5272e-04\n",
      "Epoch 58/100\n",
      "1975/1975 [==============================] - 6s 3ms/step - loss: 9.9843e-04\n",
      "Epoch 59/100\n",
      "1975/1975 [==============================] - 6s 3ms/step - loss: 8.3590e-04\n",
      "Epoch 60/100\n",
      "1975/1975 [==============================] - 6s 3ms/step - loss: 9.2995e-04\n",
      "Epoch 61/100\n",
      "1975/1975 [==============================] - 6s 3ms/step - loss: 7.1680e-04\n",
      "Epoch 62/100\n",
      "1975/1975 [==============================] - 6s 3ms/step - loss: 8.4856e-04\n",
      "Epoch 63/100\n",
      "1975/1975 [==============================] - 6s 3ms/step - loss: 7.5217e-04\n",
      "Epoch 64/100\n",
      "1975/1975 [==============================] - 6s 3ms/step - loss: 8.3382e-04\n",
      "Epoch 65/100\n",
      "1975/1975 [==============================] - 6s 3ms/step - loss: 0.0010\n",
      "Epoch 66/100\n",
      "1975/1975 [==============================] - 6s 3ms/step - loss: 7.7047e-04\n",
      "Epoch 67/100\n",
      "1975/1975 [==============================] - 6s 3ms/step - loss: 7.9390e-04\n",
      "Epoch 68/100\n",
      "1975/1975 [==============================] - 6s 3ms/step - loss: 8.1388e-04\n",
      "Epoch 69/100\n",
      "1975/1975 [==============================] - 6s 3ms/step - loss: 7.4936e-04\n",
      "Epoch 70/100\n",
      "1975/1975 [==============================] - 6s 3ms/step - loss: 7.9971e-04\n",
      "Epoch 71/100\n",
      "1975/1975 [==============================] - 6s 3ms/step - loss: 6.9327e-04\n",
      "Epoch 72/100\n",
      "1975/1975 [==============================] - 6s 3ms/step - loss: 7.4552e-04\n",
      "Epoch 73/100\n",
      "1975/1975 [==============================] - 6s 3ms/step - loss: 7.4514e-04\n",
      "Epoch 74/100\n",
      "1975/1975 [==============================] - 6s 3ms/step - loss: 7.8341e-04\n",
      "Epoch 75/100\n",
      "1975/1975 [==============================] - 6s 3ms/step - loss: 8.4551e-04\n",
      "Epoch 76/100\n",
      "1975/1975 [==============================] - 6s 3ms/step - loss: 8.8782e-04\n",
      "Epoch 77/100\n",
      "1975/1975 [==============================] - 6s 3ms/step - loss: 7.4228e-04\n",
      "Epoch 78/100\n",
      "1975/1975 [==============================] - 6s 3ms/step - loss: 7.9056e-04\n",
      "Epoch 79/100\n",
      "1975/1975 [==============================] - 6s 3ms/step - loss: 7.2595e-04\n",
      "Epoch 80/100\n",
      "1975/1975 [==============================] - 6s 3ms/step - loss: 6.6200e-04\n",
      "Epoch 81/100\n",
      "1975/1975 [==============================] - 6s 3ms/step - loss: 7.8005e-04\n",
      "Epoch 82/100\n",
      "1975/1975 [==============================] - 6s 3ms/step - loss: 7.9256e-04\n",
      "Epoch 83/100\n",
      "1975/1975 [==============================] - 6s 3ms/step - loss: 6.5524e-04\n",
      "Epoch 84/100\n",
      "1975/1975 [==============================] - 6s 3ms/step - loss: 6.7619e-04\n",
      "Epoch 85/100\n",
      "1975/1975 [==============================] - 6s 3ms/step - loss: 7.2058e-04\n",
      "Epoch 86/100\n",
      "1975/1975 [==============================] - 6s 3ms/step - loss: 6.6148e-04A: 0s - loss: \n",
      "Epoch 87/100\n",
      "1975/1975 [==============================] - 6s 3ms/step - loss: 6.1157e-04\n",
      "Epoch 88/100\n",
      "1975/1975 [==============================] - 6s 3ms/step - loss: 7.8343e-04\n",
      "Epoch 89/100\n",
      "1975/1975 [==============================] - 6s 3ms/step - loss: 7.6766e-04A\n",
      "Epoch 90/100\n",
      "1975/1975 [==============================] - 6s 3ms/step - loss: 6.7704e-04\n",
      "Epoch 91/100\n",
      "1975/1975 [==============================] - 6s 3ms/step - loss: 8.4448e-04\n",
      "Epoch 92/100\n",
      "1975/1975 [==============================] - 7s 4ms/step - loss: 7.1665e-04\n",
      "Epoch 93/100\n",
      "1975/1975 [==============================] - 6s 3ms/step - loss: 7.2219e-04\n",
      "Epoch 94/100\n",
      "1975/1975 [==============================] - 6s 3ms/step - loss: 7.1918e-04\n",
      "Epoch 95/100\n",
      "1975/1975 [==============================] - 6s 3ms/step - loss: 7.3622e-04\n",
      "Epoch 96/100\n",
      "1975/1975 [==============================] - 6s 3ms/step - loss: 6.3723e-04\n",
      "Epoch 97/100\n",
      "1975/1975 [==============================] - 6s 3ms/step - loss: 6.9763e-04\n",
      "Epoch 98/100\n",
      "1975/1975 [==============================] - 6s 3ms/step - loss: 7.7407e-04\n",
      "Epoch 99/100\n",
      "1975/1975 [==============================] - 6s 3ms/step - loss: 7.4840e-04\n",
      "Epoch 100/100\n",
      "1975/1975 [==============================] - 6s 3ms/step - loss: 8.7465e-04\n"
     ]
    },
    {
     "data": {
      "text/plain": [
       "<keras.callbacks.callbacks.History at 0x139d4f2cfd0>"
      ]
     },
     "execution_count": 12,
     "metadata": {},
     "output_type": "execute_result"
    }
   ],
   "source": [
    "# Adding the output layer\n",
    "regressor.add(Dense(units = 1))\n",
    "\n",
    "# Compiling the RNN\n",
    "regressor.compile(optimizer = 'adam', loss = 'mean_squared_error')\n",
    "\n",
    "# Fitting the RNN to the Training set\n",
    "regressor.fit(X_train, y_train, epochs = 100, batch_size = 32)\n",
    "\n"
   ]
  },
  {
   "cell_type": "code",
   "execution_count": 13,
   "metadata": {},
   "outputs": [],
   "source": [
    "# Part 3 - Making the predictions and visualising the results\n",
    "\n",
    "# Getting the real stock price of 2017\n",
    "dataset_test = pd.read_csv('tatatest.csv')\n",
    "real_stock_price = dataset_test.iloc[:, 1:2].values"
   ]
  },
  {
   "cell_type": "code",
   "execution_count": 14,
   "metadata": {},
   "outputs": [],
   "source": [
    "# Getting the predicted stock price of 2017\n",
    "dataset_total = pd.concat((dataset_train['Open'], dataset_test['Open']), axis = 0)\n",
    "inputs = dataset_total[len(dataset_total) - len(dataset_test) - 60:].values\n",
    "inputs = inputs.reshape(-1,1)\n",
    "inputs = sc.transform(inputs)\n",
    "X_test = []\n",
    "for i in range(60, 76):\n",
    "    X_test.append(inputs[i-60:i, 0])\n",
    "X_test = np.array(X_test)\n",
    "X_test = np.reshape(X_test, (X_test.shape[0], X_test.shape[1], 1))\n",
    "predicted_stock_price = regressor.predict(X_test)\n",
    "predicted_stock_price = sc.inverse_transform(predicted_stock_price)\n"
   ]
  },
  {
   "cell_type": "code",
   "execution_count": 15,
   "metadata": {},
   "outputs": [
    {
     "data": {
      "image/png": "[encoded data removed]",
      "text/plain": [
       "<Figure size 432x288 with 1 Axes>"
      ]
     },
     "metadata": {
      "needs_background": "light"
     },
     "output_type": "display_data"
    }
   ],
   "source": [
    "# Visualising the results\n",
    "plt.plot(real_stock_price, color = 'red', label = 'Real TATA Stock Price')\n",
    "plt.plot(predicted_stock_price, color = 'blue', label = 'Predicted TAT Stock Price')\n",
    "plt.title('TATA Stock Price Prediction')\n",
    "plt.xlabel('Time')\n",
    "plt.ylabel('TATA Stock Price')\n",
    "plt.legend()\n",
    "plt.show()"
   ]
  },
  {
   "cell_type": "code",
   "execution_count": null,
   "metadata": {},
   "outputs": [],
   "source": []
  },
  {
   "cell_type": "code",
   "execution_count": null,
   "metadata": {},
   "outputs": [],
   "source": []
  }
 ],
 "metadata": {
  "kernelspec": {
   "display_name": "Python 3",
   "language": "python",
   "name": "python3"
  },
  "language_info": {
   "codemirror_mode": {
    "name": "ipython",
    "version": 3
   },
   "file_extension": ".py",
   "mimetype": "text/x-python",
   "name": "python",
   "nbconvert_exporter": "python",
   "pygments_lexer": "ipython3",
   "version": "3.6.12"
  }
 },
 "nbformat": 4,
 "nbformat_minor": 4
}
